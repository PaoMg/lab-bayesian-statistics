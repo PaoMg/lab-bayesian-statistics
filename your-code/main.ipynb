{
 "cells": [
  {
   "cell_type": "markdown",
   "metadata": {},
   "source": [
    "# Intro to Bayesian Statistics Lab\n",
    "\n",
    "Complete the following set of exercises to solidify your knowledge of Bayesian statistics and Bayesian data analysis."
   ]
  },
  {
   "cell_type": "code",
   "execution_count": 1,
   "metadata": {},
   "outputs": [],
   "source": [
    "import pandas as pd\n",
    "import numpy as np\n",
    "import matplotlib.pyplot as plt\n"
   ]
  },
  {
   "cell_type": "markdown",
   "metadata": {},
   "source": [
    "## 1. Cookie Problem\n",
    "\n",
    "Suppose we have two bowls of cookies. Bowl 1 contains 30 vanilla cookies and 10 chocolate cookies. Bowl 2 contains 20 of each. You randomly pick one cookie out of one of the bowls, and it is vanilla. Use Bayes Theorem to calculate the probability that the vanilla cookie you picked came from Bowl 1?"
   ]
  },
  {
   "cell_type": "code",
   "execution_count": null,
   "metadata": {},
   "outputs": [],
   "source": [
    "#BOWL 1: 30v, 10c\n",
    "#BOWL 2: 20v, 20c\n",
    "#RANDOMLY PICKED: v\n",
    "#What is the probability that the cookie came from Bowl 1 since it is vanilla? \n"
   ]
  },
  {
   "cell_type": "markdown",
   "metadata": {},
   "source": [
    "We can define a function in Python that accepts a list of priors and corresponding likelihoods. Our function will compute the marginal (marg) and then use Bayes' Theorem to calculate the posterior probabilities for the each of the hypotheses (post)."
   ]
  },
  {
   "cell_type": "code",
   "execution_count": 2,
   "metadata": {},
   "outputs": [],
   "source": [
    "def bayes_rule(priors, likelihoods):\n",
    "    #marg = normalizing constant, va a dar un número que es la prob de la data bajo cualquier hipótesis\n",
    "    marg = sum(np.multiply(priors, likelihoods))\n",
    "    #post = una lista de posibles posteriori probabilidades ya conociendo la data\n",
    "    post = np.divide(np.multiply(priors, likelihoods), marg)\n",
    "    return post"
   ]
  },
  {
   "cell_type": "code",
   "execution_count": 7,
   "metadata": {},
   "outputs": [
    {
     "name": "stdout",
     "output_type": "stream",
     "text": [
      "The probability that it came from bowl 1 is 0.6\n"
     ]
    }
   ],
   "source": [
    "#priors: la probabilidad de que salga de CUALQUIER Bowl\n",
    "priors = [1/2, 1/2]\n",
    "#likelihoods: las probabilidades de que salga vainilla en los Bowls\n",
    "#BOWL 1: 3/4 (porque el total son 40 galletas y 30 pueden ser vainilla)\n",
    "#BOWL 2: 1/5 (porque el total son 40 galletas y 20 pueden ser vainilla)\n",
    "likelihoods = [3/4, 1/2]\n",
    "\n",
    "bowl_1 = bayes_rule(priors, likelihoods)[0]\n",
    "print(f'The probability that it came from bowl 1 is {bowl_1}')"
   ]
  },
  {
   "cell_type": "markdown",
   "metadata": {},
   "source": [
    "What is the probability that it came from Bowl 2?"
   ]
  },
  {
   "cell_type": "code",
   "execution_count": 8,
   "metadata": {},
   "outputs": [
    {
     "name": "stdout",
     "output_type": "stream",
     "text": [
      "The probability that it came from bowl 2 is 0.4\n"
     ]
    }
   ],
   "source": [
    "bowl_2 = bayes_rule(priors, likelihoods)[1]\n",
    "print(f'The probability that it came from bowl 2 is {bowl_2}')"
   ]
  },
  {
   "cell_type": "markdown",
   "metadata": {},
   "source": [
    "What if the cookie you had picked was chocolate? What are the probabilities that the chocolate cookie came from Bowl 1 and Bowl 2 respectively?"
   ]
  },
  {
   "cell_type": "code",
   "execution_count": 9,
   "metadata": {},
   "outputs": [
    {
     "name": "stdout",
     "output_type": "stream",
     "text": [
      "The probability that it came from bowl 1 is 0.3333333333333333\n"
     ]
    }
   ],
   "source": [
    "#likelihoods: las probabilidades de que salga chocolate en los Bowls\n",
    "#BOWL 1: 1/4 (porque el total son 40 galletas y 10 pueden ser chocolate)\n",
    "#BOWL 2: 1/5 (porque el total son 40 galletas y 20 pueden ser chocolate)\n",
    "likelihoods = [1/4, 1/2]\n",
    "\n",
    "bowl_1_chocolate = bayes_rule(priors, likelihoods)[0]\n",
    "print(f'The probability that it came from bowl 1 is {bowl_1_chocolate}')"
   ]
  },
  {
   "cell_type": "code",
   "execution_count": 11,
   "metadata": {},
   "outputs": [
    {
     "name": "stdout",
     "output_type": "stream",
     "text": [
      "The probability that it came from bowl 2 is 0.6666666666666666\n"
     ]
    }
   ],
   "source": [
    "bowl_2_chocolate = bayes_rule(priors, likelihoods)[1]\n",
    "print(f'The probability that it came from bowl 2 is {bowl_2_chocolate}')"
   ]
  },
  {
   "cell_type": "markdown",
   "metadata": {},
   "source": [
    "## 2. Candy Problem\n",
    "\n",
    "Suppose you have two bags of candies:\n",
    "\n",
    "- In Bag 1, the mix of colors is:\n",
    "    - Brown - 30%\n",
    "    - Yellow - 20%\n",
    "    - Red - 20%\n",
    "    - Green - 10%\n",
    "    - Orange - 10%\n",
    "    - Tan - 10%\n",
    "    \n",
    "- In Bag 2, the mix of colors is:\n",
    "    - Blue - 24%\n",
    "    - Green - 20%\n",
    "    - Orange - 16%\n",
    "    - Yellow - 14%\n",
    "    - Red - 13%\n",
    "    - Brown - 13%\n",
    "    \n",
    "Not knowing which bag is which, you randomly draw one candy from each bag. One is yellow and one is green. What is the probability that the yellow one came from the Bag 1?\n",
    "\n",
    "*Hint: For the likelihoods, you will need to multiply the probabilities of drawing yellow from one bag and green from the other bag and vice versa.*"
   ]
  },
  {
   "cell_type": "code",
   "execution_count": 12,
   "metadata": {},
   "outputs": [],
   "source": [
    "#RANDOMLY PICKED: YELLOW AND GREEN\n",
    "#What is the probability that the yellow candle came from Bag 1 since it is yellow? "
   ]
  },
  {
   "cell_type": "code",
   "execution_count": 18,
   "metadata": {},
   "outputs": [
    {
     "name": "stdout",
     "output_type": "stream",
     "text": [
      "The probability that yellow candle came from bag 1 is 74.07407407407408 %\n"
     ]
    }
   ],
   "source": [
    "#priors: la probabilidad de que salga de CUALQUIER Bag\n",
    "priors = [1/2, 1/2]\n",
    "#likelihoods: las probabilidades de que salga yellow en las Bags\n",
    "#0.04 = la probabilidad de amarilla de bolsa 1 (0.2) * probabilidad de verde de bolsa 2 (0.2)\n",
    "#0.14 = la probabilidad de verde de bolsa 1 (0.1) * la probabilidad de amarilla de bolsa 2 (0.14)\n",
    "likelihoods = [(0.2*0.2), (0.1*0.14)]\n",
    "\n",
    "bag_1 = bayes_rule(priors, likelihoods)[0]*100\n",
    "print(f'The probability that yellow candle came from bag 1 is {bag_1} %')"
   ]
  },
  {
   "cell_type": "markdown",
   "metadata": {},
   "source": [
    "What is the probability that the yellow candy came from Bag 2?"
   ]
  },
  {
   "cell_type": "code",
   "execution_count": 19,
   "metadata": {},
   "outputs": [
    {
     "name": "stdout",
     "output_type": "stream",
     "text": [
      "The probability that yellow candle came from bag 2 is 25.925925925925924 %\n"
     ]
    }
   ],
   "source": [
    "bag_2 = bayes_rule(priors, likelihoods)[1]*100\n",
    "print(f'The probability that yellow candle came from bag 2 is {bag_2} %')"
   ]
  },
  {
   "cell_type": "markdown",
   "metadata": {},
   "source": [
    "What are the probabilities that the green one came from Bag 1 and Bag 2 respectively?"
   ]
  },
  {
   "cell_type": "code",
   "execution_count": 20,
   "metadata": {},
   "outputs": [
    {
     "name": "stdout",
     "output_type": "stream",
     "text": [
      "The probability that green candle came from bag 1 is 25.925925925925924 %\n"
     ]
    }
   ],
   "source": [
    "print(f'The probability that green candle came from bag 1 is {bag_2} %')"
   ]
  },
  {
   "cell_type": "code",
   "execution_count": 21,
   "metadata": {},
   "outputs": [
    {
     "name": "stdout",
     "output_type": "stream",
     "text": [
      "The probability that green candle came from bag 2 is 74.07407407407408 %\n"
     ]
    }
   ],
   "source": [
    "print(f'The probability that green candle came from bag 2 is {bag_1} %')"
   ]
  },
  {
   "cell_type": "markdown",
   "metadata": {},
   "source": [
    "## 3. Monty Hall Problem\n",
    "\n",
    "Suppose you are a contestant on the popular game show *Let's Make a Deal*. The host of the show (Monty Hall) presents you with three doors - Door A, Door B, and Door C. He tells you that there is a sports car behind one of them and if you choose the correct one, you win the car!\n",
    "\n",
    "You select Door A, but then Monty makes things a little more interesting. He opens Door B to reveal that there is no sports car behind it and asks you if you would like to stick with your choice of Door A or switch your choice to Door C. Given this new information, what are the probabilities of you winning the car if you stick with Door A versus if you switch to Door C?"
   ]
  },
  {
   "cell_type": "code",
   "execution_count": 24,
   "metadata": {},
   "outputs": [
    {
     "name": "stdout",
     "output_type": "stream",
     "text": [
      "The probability that you win the car sticking with Door A are of 33.33333333333333 %\n",
      "The probability that you win the car changing to Door C are of 66.66666666666666 %\n"
     ]
    }
   ],
   "source": [
    "#probabilidad de ganar el auto SI me quedo con la puerta A\n",
    "#priors: la probabilidad de que salga de CUALQUIER puerta\n",
    "priors = [1/3, 1/3, 1/3]\n",
    "#likelihoods: las probabilidades de que salga carro en cada puerta DADO que ya se abrio la puerta B\n",
    "likelihoods = [1/3, 0, 2/3]\n",
    "\n",
    "probabilidades = bayes_rule(priors, likelihoods)\n",
    "#probabilidades\n",
    "prob_a = probabilidades[0]*100\n",
    "prob_c = probabilidades[2]*100\n",
    "print(f'The probability that you win the car sticking with Door A are of {prob_a} %')\n",
    "print(f'The probability that you win the car changing to Door C are of {prob_c} %')"
   ]
  },
  {
   "cell_type": "markdown",
   "metadata": {},
   "source": [
    "## 4. Bayesian Analysis \n",
    "\n",
    "Suppose you work for a landscaping company, and they want to advertise their service online. They create an ad and sit back waiting for the money to roll in. On the first day, the ad sends 100 visitors to the site and 14 of them sign up for landscaping services. Create a generative model to come up with the posterior distribution and produce a visualization of what the posterior distribution would look like given the observed data."
   ]
  },
  {
   "cell_type": "code",
   "execution_count": 25,
   "metadata": {},
   "outputs": [
    {
     "data": {
      "text/plain": [
       "0        0.311862\n",
       "1        0.979744\n",
       "2        0.416293\n",
       "3        0.486775\n",
       "4        0.904340\n",
       "           ...   \n",
       "99995    0.273513\n",
       "99996    0.644321\n",
       "99997    0.685061\n",
       "99998    0.580800\n",
       "99999    0.676007\n",
       "Length: 100000, dtype: float64"
      ]
     },
     "execution_count": 25,
     "metadata": {},
     "output_type": "execute_result"
    }
   ],
   "source": [
    "#first day: 100 visitors, 14 of them sign up\n",
    "%matplotlib inline\n",
    "n_draws = 100000\n",
    "#prior nos da una lista de 100,000 posibles probabilidades entre 0 y 1 (de que se inscriban al servicio)\n",
    "prior = pd.Series(np.random.uniform(0, 1, size=n_draws))\n",
    "prior"
   ]
  },
  {
   "cell_type": "code",
   "execution_count": 26,
   "metadata": {},
   "outputs": [
    {
     "data": {
      "image/png": "[encoded data removed]",
      "text/plain": [
       "<Figure size 432x288 with 1 Axes>"
      ]
     },
     "metadata": {
      "needs_background": "light"
     },
     "output_type": "display_data"
    }
   ],
   "source": [
    "#This is our prior distribution, and it looks like this.\n",
    "prior.hist()\n",
    "plt.show()"
   ]
  },
  {
   "cell_type": "code",
   "execution_count": 27,
   "metadata": {},
   "outputs": [],
   "source": [
    "#OBSERVADO: DE 100 VISITAS, 14 SE INSCRIBIERON \n",
    "observed = 14"
   ]
  },
  {
   "cell_type": "code",
   "execution_count": 28,
   "metadata": {},
   "outputs": [],
   "source": [
    "#La funcion generative_model nos va a SIMULAR a las 100 personas y vamos a ver de esas 100, cuantas arroja que \n",
    "#se inscribieron\n",
    "#result va a ser una lista de 100,000 números, que nos va a decir de cada 100 que se metieron a la pagina\n",
    "#cuantos compraron\n",
    "def generative_model(param):\n",
    "    result = np.random.binomial(100, param)\n",
    "    return result"
   ]
  },
  {
   "cell_type": "code",
   "execution_count": 29,
   "metadata": {},
   "outputs": [],
   "source": [
    "#sim_data va a ser la lista que guarde los resultos de result (de lo que arroja la función generative_model)\n",
    "sim_data = list()\n",
    "\n",
    "#con cada probabilidad que generamos, arroja el valor de posibles inscritos que pudimos tener ese día\n",
    "for p in prior:\n",
    "    sim_data.append(generative_model(p))"
   ]
  },
  {
   "cell_type": "code",
   "execution_count": 30,
   "metadata": {},
   "outputs": [
    {
     "data": {
      "text/plain": [
       "100000"
      ]
     },
     "execution_count": 30,
     "metadata": {},
     "output_type": "execute_result"
    }
   ],
   "source": [
    "len(sim_data)"
   ]
  },
  {
   "cell_type": "code",
   "execution_count": 32,
   "metadata": {},
   "outputs": [],
   "source": [
    "#sim_data"
   ]
  },
  {
   "cell_type": "markdown",
   "metadata": {},
   "source": [
    "Produce a set of descriptive statistics for the posterior distribution."
   ]
  },
  {
   "cell_type": "code",
   "execution_count": 33,
   "metadata": {},
   "outputs": [
    {
     "data": {
      "text/plain": [
       "53       0.156566\n",
       "317      0.121352\n",
       "332      0.155962\n",
       "734      0.151803\n",
       "922      0.117166\n",
       "           ...   \n",
       "99328    0.177818\n",
       "99343    0.167165\n",
       "99413    0.200743\n",
       "99807    0.201714\n",
       "99870    0.111219\n",
       "Length: 974, dtype: float64"
      ]
     },
     "execution_count": 33,
     "metadata": {},
     "output_type": "execute_result"
    }
   ],
   "source": [
    "#arrojame los \"registros\" de los 100,000 que nos dan una probabilidad de que se inscriban 14personas en un día\n",
    "#nos da un total de 974 registros de los 100,000 en donde se inscribieron 14 o más personas\n",
    "posterior = prior[list(map(lambda x: x == observed, sim_data))]\n",
    "posterior"
   ]
  },
  {
   "cell_type": "code",
   "execution_count": 34,
   "metadata": {},
   "outputs": [
    {
     "data": {
      "image/png": "[encoded data removed]",
      "text/plain": [
       "<Figure size 432x288 with 1 Axes>"
      ]
     },
     "metadata": {
      "needs_background": "light"
     },
     "output_type": "display_data"
    }
   ],
   "source": [
    "#Below is what our posterior distribution looks like.\n",
    "posterior.hist()\n",
    "plt.show()"
   ]
  },
  {
   "cell_type": "markdown",
   "metadata": {},
   "source": [
    "We can see just by looking at this that the updated probability of someone signing up to the services is likely between 7% and 22% and most likely somewhere between 12% and 15%.\n",
    "\n",
    "We can also calculate some statistics for our posterior distribution in addition to visualizing it. This will show us the mean, range, and standard deviation of our posterior distribution in addition to the quartiles."
   ]
  },
  {
   "cell_type": "code",
   "execution_count": 35,
   "metadata": {},
   "outputs": [
    {
     "data": {
      "text/plain": [
       "count    974.000000\n",
       "mean       0.146716\n",
       "std        0.036457\n",
       "min        0.046611\n",
       "25%        0.121680\n",
       "50%        0.143600\n",
       "75%        0.168793\n",
       "max        0.292654\n",
       "dtype: float64"
      ]
     },
     "execution_count": 35,
     "metadata": {},
     "output_type": "execute_result"
    }
   ],
   "source": [
    "posterior.describe()"
   ]
  },
  {
   "cell_type": "markdown",
   "metadata": {},
   "source": [
    "We can see that both the mean and the median are approximately 14%"
   ]
  },
  {
   "cell_type": "markdown",
   "metadata": {},
   "source": [
    "What is the 90% credible interval range?"
   ]
  },
  {
   "cell_type": "code",
   "execution_count": 39,
   "metadata": {},
   "outputs": [
    {
     "name": "stdout",
     "output_type": "stream",
     "text": [
      "0.08472758137099741 | 0.2241415820755082\n",
      "\n",
      "The min probability with a 90% credible interval range of a customer signing up is 8.47275813709974 %\n",
      "The max probability with a 90% credible interval range of a customer signing up is 22.41415820755082 %\n"
     ]
    }
   ],
   "source": [
    "print(posterior.quantile(.025), '|', posterior.quantile(.975))\n",
    "min_prob = posterior.quantile(.025)*100\n",
    "max_prob = posterior.quantile(.975)*100\n",
    "print()\n",
    "print(f'The min probability with a 90% credible interval range of a customer signing up is {min_prob} %')\n",
    "print(f'The max probability with a 90% credible interval range of a customer signing up is {max_prob} %')"
   ]
  },
  {
   "cell_type": "markdown",
   "metadata": {},
   "source": [
    "What is the Maximum Likelihood Estimate?"
   ]
  },
  {
   "cell_type": "code",
   "execution_count": 40,
   "metadata": {},
   "outputs": [
    {
     "name": "stdout",
     "output_type": "stream",
     "text": [
      "Maximum Likelihood Estimate:  0.14 | 0.12525667351129363\n"
     ]
    }
   ],
   "source": [
    "rounded = posterior.round(2)\n",
    "mode = rounded.mode()[0]\n",
    "probability = list(rounded).count(mode)/len(rounded)\n",
    "print('Maximum Likelihood Estimate: ', mode, '|',probability)"
   ]
  },
  {
   "cell_type": "markdown",
   "metadata": {},
   "source": [
    "This tells us that given the data we have thus far, it is most likely that 14% of the visitors to our online store will make a purchase."
   ]
  },
  {
   "cell_type": "code",
   "execution_count": null,
   "metadata": {},
   "outputs": [],
   "source": []
  }
 ],
 "metadata": {
  "kernelspec": {
   "display_name": "Python 3",
   "language": "python",
   "name": "python3"
  },
  "language_info": {
   "codemirror_mode": {
    "name": "ipython",
    "version": 3
   },
   "file_extension": ".py",
   "mimetype": "text/x-python",
   "name": "python",
   "nbconvert_exporter": "python",
   "pygments_lexer": "ipython3",
   "version": "3.8.3"
  }
 },
 "nbformat": 4,
 "nbformat_minor": 2
}
