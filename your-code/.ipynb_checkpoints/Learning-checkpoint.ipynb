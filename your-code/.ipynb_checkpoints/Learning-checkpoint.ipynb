{
 "cells": [
  {
   "cell_type": "markdown",
   "metadata": {},
   "source": [
    "# Introduction to Bayesian Statistics\n",
    "\n",
    "\n",
    "Lesson Goals\n",
    "\n",
    "    Understand how conditional probabilities form the basis for Bayesian statistics.\n",
    "    Introduce Bayes' Theorem and its components.\n",
    "    Use Bayes' Theorem to arrive at an estimate.\n",
    "    Perform a Bayesian analysis using a real-world scenario.\n",
    "\n",
    "Introduction\n",
    "\n",
    "In the Introduction to Probability lesson, we introduced conditional probability, which is a prerequisite for Bayesian Statistics.\n",
    "\n",
    "Conditional Probabilities\n",
    "\n",
    "A conditional probability is a probability based on some background information. It's notation is typically expressed as P(A|B), which means the probability of event A occurring given that some condition B is true. We saw that this could be computed using the following equation.\n",
    "\n",
    "P(A|B) = P(A∩B) / P(B)\n",
    "\n",
    "In other words, the probability of A given B equals the probability of the intersection of A and B divided by the probability of B.\n",
    "\n",
    "We also briefly touched on the independence and dependence of events and said that when events are independent, at least one of the following must be true.\n",
    "\n",
    "P(A|B) = P(A)\n",
    "P(B|A) = P(B)\n",
    "P(A∩B) = P(A) P(B)\n",
    "\n",
    "In other words, if the events are truly independent, then the probability of one given another should just be the probability of that event occurring. Similarly, the probability of the intersection of the two events should just be the product of the probabilities of the two events, since neither one impacts the other.\n",
    "Bayes' Theorem\n",
    "\n",
    "For dependent events, we need to modify the last set of equations to account for the fact that one event impacts the other.\n",
    "\n",
    "P(A∩B) = P(A) P(B|A)\n",
    "P(B∩A) = P(B) P(A|B)\n",
    "\n",
    "So the intersection of A and B equals the probability of A times the probability of B given A and, since there is nothing special about A versus B, it also equals the probability of B times the probability of A given B.\n",
    "\n",
    "If this is the case, then:\n",
    "\n",
    "P(B) P(A|B) = P(A) P(B|A)\n",
    "\n",
    "And if we divide both sides by P(B), we end up with the following.\n",
    "\n",
    "P(A|B) = P(A) P(B|A) / P(B)\n",
    "\n",
    "This equation is known as Bayes' Theorem, and it is a surprisingly powerful equation that forms the fundamental idea behind all Bayesian statistics. It allows us to establish what we believe about the probability of a hypothesis prior to seeing any data, and it also provides us with a means by which to update those beliefs once we have seen some data.\n",
    "\n",
    "This equation has a few different components, so let's break those down:\n",
    "\n",
    "    P(A) is known as the prior probability, and it is the the probability of the hypothesis before we see the data.\n",
    "    \n",
    "    P(B|A) is known as the likelihood, and it represents the probability of the data under the hypothesis.\n",
    "    \n",
    "    P(B) is known as the marginal probability, and it is a normalizing constant that represents the probability of the data under any hypothesis, or P(A∪B). In other words, it can be computed as P(A) P(B|A) + P(-A) P(B|-A) where -A is Not A (the alternative scenario of the hypothesis).\n",
    "    \n",
    "    P(A|B) is known as the posterior probability, and it is the probability that we want to compute after having seen the data.\n",
    "\n",
    "Important: It is important to emphasize here that the hypothesis is represented by A and the observed data is represented by B. A common mistake and point of confusion is to think that A and B represent two different hypotheses, which is not the case. The two opposing hypotheses are represented by A and -A.\n",
    "\n",
    "We can define a function in Python that accepts a list of priors and corresponding likelihoods. Our function will compute the marginal (marg) and then use Bayes' Theorem to calculate the posterior probabilities for the each of the hypotheses (post)."
   ]
  },
  {
   "cell_type": "code",
   "execution_count": 1,
   "metadata": {},
   "outputs": [],
   "source": [
    "import numpy as np\n",
    "\n",
    "def bayes_rule(priors, likelihoods):\n",
    "    #marg = normalizing constant, va a dar un número que es la prob de la data bajo cualquier hipótesis\n",
    "    marg = sum(np.multiply(priors, likelihoods))\n",
    "    #post = una lista de posibles posteriori probabilidades ya conociendo la data\n",
    "    post = np.divide(np.multiply(priors, likelihoods), marg)\n",
    "    return post"
   ]
  },
  {
   "cell_type": "markdown",
   "metadata": {},
   "source": [
    "# Application of Bayes' Theorem\n",
    "\n",
    "Now that we have our function, let's propose a scenario and use our function to help us solve for the posterior probabilities.\n",
    "\n",
    "Suppose we have 3 jars with 100 marbles in each.\n",
    "\n",
    "    Jar 1 has 40 blue marbles, 30 red marbles, and 30 green marbles.\n",
    "    Jar 2 has 60 blue marbles, 20 red marbles, and 20 green marbles.\n",
    "    Jar 3 has 10 blue marbles, 30 red marbles, and 60 green marbles.\n",
    "\n",
    "You pick a marble from one of the jars at random, and the marble is green. What are the probabilities that the marble came from each of the three jars?\n",
    "\n",
    "To answer this question, we would need to know what our prior probabilities were and our likelihoods. For the priors, we can assume that the probability we drew the marble from any one jar is equally probably, or 1/3. The likelihoods in this case would just be the percentages of green marbles in each jar. We can plug these values into our bayes_rule function, and it will return the following outputs.\n",
    "\n"
   ]
  },
  {
   "cell_type": "code",
   "execution_count": 2,
   "metadata": {},
   "outputs": [
    {
     "data": {
      "text/plain": [
       "array([0.27272727, 0.18181818, 0.54545455])"
      ]
     },
     "execution_count": 2,
     "metadata": {},
     "output_type": "execute_result"
    }
   ],
   "source": [
    "priors = [1/3, 1/3, 1/3]\n",
    "likelihoods = [0.3, 0.2, 0.6]\n",
    "\n",
    "bayes_rule(priors, likelihoods)"
   ]
  },
  {
   "cell_type": "markdown",
   "metadata": {},
   "source": [
    "From these results, we can see that there is a 25% chance that the green marble we drew came from Jar 1, a 16.67% chance that it came from Jar 2, and a 58.3% chance that it came from Jar 3.\n",
    "\n",
    "Suppose you had picked a blue marble instead of a green one. We would just need to update our likelihoods to account for the proportion of each jar whose marbles were blue."
   ]
  },
  {
   "cell_type": "code",
   "execution_count": 3,
   "metadata": {},
   "outputs": [
    {
     "data": {
      "text/plain": [
       "array([0.36363636, 0.54545455, 0.09090909])"
      ]
     },
     "execution_count": 3,
     "metadata": {},
     "output_type": "execute_result"
    }
   ],
   "source": [
    "likelihoods = [0.4, 0.6, 0.1]\n",
    "\n",
    "bayes_rule(priors, likelihoods)"
   ]
  },
  {
   "cell_type": "markdown",
   "metadata": {},
   "source": [
    "There's a 36.36% chance that the green marble we chose came from Jar 1, a 54.54% chance it came from Jar 2, and only a 9% chance that it came from Jar 3.\n",
    "\n",
    "\n",
    "# Bayesian Data Analysis\n",
    "\n",
    "The previous example was a simple one with the objective of demonstrating how Bayes' Theorem works. When doing Bayesian Data Analysis in the real world, the priors and the posteriors are typically probability distributions. We typically have some data, and the way to get from the prior to the posterior is typically a generative model (one that accepts parameters and generates data from them).\n",
    "\n",
    "To get a sense of how this works, let's look at an example. Suppose we have just launched an online store that sells fidget spinners, and we are trying to estimate what percentage of visitors to our online store will make a purchase. We can set this up as a Bayesian problem and arrive at a probability distribution as follows.\n",
    "\n",
    "Prior to seeing any traffic or purchase data, we have no idea what to expect so we will start with the assumption that all percentages are equally likely. This is called a uniform prior because we can use a uniform distribution to represent the fact that every rate has an equal chance of being the actual rate of purchase. To set this up in Python, we are going to use Numpy to generate a uniform distribution from 100,000 random draws of numbers between 0 and 1.\n",
    "\n"
   ]
  },
  {
   "cell_type": "code",
   "execution_count": 5,
   "metadata": {},
   "outputs": [
    {
     "data": {
      "text/plain": [
       "0        0.219966\n",
       "1        0.289479\n",
       "2        0.446130\n",
       "3        0.509106\n",
       "4        0.962838\n",
       "           ...   \n",
       "99995    0.540630\n",
       "99996    0.543362\n",
       "99997    0.591765\n",
       "99998    0.161482\n",
       "99999    0.851610\n",
       "Length: 100000, dtype: float64"
      ]
     },
     "execution_count": 5,
     "metadata": {},
     "output_type": "execute_result"
    }
   ],
   "source": [
    "import pandas as pd\n",
    "import matplotlib.pyplot as plt\n",
    "%matplotlib inline\n",
    "\n",
    "n_draws = 100000\n",
    "#prior nos da una lista de 100,000 posibles probabilidades entre 0 y 1 (de que compren en la tienda)\n",
    "prior = pd.Series(np.random.uniform(0, 1, size=n_draws))\n",
    "prior"
   ]
  },
  {
   "cell_type": "markdown",
   "metadata": {},
   "source": [
    "This is our prior distribution, and it looks like this."
   ]
  },
  {
   "cell_type": "code",
   "execution_count": 6,
   "metadata": {},
   "outputs": [
    {
     "data": {
      "image/png": "[encoded data removed]",
      "text/plain": [
       "<Figure size 432x288 with 1 Axes>"
      ]
     },
     "metadata": {
      "needs_background": "light"
     },
     "output_type": "display_data"
    }
   ],
   "source": [
    "prior.hist()\n",
    "plt.show()"
   ]
  },
  {
   "cell_type": "markdown",
   "metadata": {},
   "source": [
    "Now it's time to observe some data and see how this affects our estimates. Suppose on the first day, 50 people visited our site and 10 of them made a purchase. We are going to record the number of purchases in a variable called observed."
   ]
  },
  {
   "cell_type": "code",
   "execution_count": 7,
   "metadata": {},
   "outputs": [],
   "source": [
    "#OBSERVADO: DE 50 VISITAS, 10 COMPRARON \n",
    "observed = 10"
   ]
  },
  {
   "cell_type": "markdown",
   "metadata": {},
   "source": [
    "Ware also going to create a generative model that will randomly draw from our prior uniform distribution, simulate 50 people coming to our website a large number of time, and see how many times we get a result that is in line with the result we have observed. To do this in Python, we are going to define a generative_model function that accepts a random probability parameter from our prior and then performs 50 binomial draws using that probability."
   ]
  },
  {
   "cell_type": "code",
   "execution_count": 8,
   "metadata": {},
   "outputs": [],
   "source": [
    "#La funcion generative_model nos va a SIMULAR a las 50 personas y vamos a ver de esas 50, cuantas arroja que \n",
    "#compraron\n",
    "#result va a ser una lista de 100,000 números, que nos va a decir en cada día de 50, cuantos compraron\n",
    "def generative_model(param):\n",
    "    result = np.random.binomial(50, param)\n",
    "    return result"
   ]
  },
  {
   "cell_type": "markdown",
   "metadata": {},
   "source": [
    "We are going to create a empty list that is going to contain our simulated results (sim_data) and then populate it by appending the results when each value in our prior distribution is plugged into our generative model."
   ]
  },
  {
   "cell_type": "code",
   "execution_count": 9,
   "metadata": {},
   "outputs": [],
   "source": [
    "sim_data = list()\n",
    "\n",
    "for p in prior:\n",
    "    sim_data.append(generative_model(p))"
   ]
  },
  {
   "cell_type": "code",
   "execution_count": 12,
   "metadata": {},
   "outputs": [
    {
     "data": {
      "text/plain": [
       "100000"
      ]
     },
     "execution_count": 12,
     "metadata": {},
     "output_type": "execute_result"
    }
   ],
   "source": [
    "len(sim_data)"
   ]
  },
  {
   "cell_type": "code",
   "execution_count": null,
   "metadata": {},
   "outputs": [],
   "source": []
  },
  {
   "cell_type": "markdown",
   "metadata": {},
   "source": [
    "Finally, we are going to arrive at our posterior distribution by selecting only the values from our prior distribution that generated instances where the simulated result matched our observed result of 10 purchases.\n",
    "\n"
   ]
  },
  {
   "cell_type": "code",
   "execution_count": 11,
   "metadata": {},
   "outputs": [
    {
     "data": {
      "text/plain": [
       "83       0.279169\n",
       "112      0.246789\n",
       "145      0.251911\n",
       "294      0.167332\n",
       "347      0.216319\n",
       "           ...   \n",
       "99885    0.155489\n",
       "99924    0.208563\n",
       "99941    0.252333\n",
       "99960    0.274067\n",
       "99986    0.350677\n",
       "Length: 2036, dtype: float64"
      ]
     },
     "execution_count": 11,
     "metadata": {},
     "output_type": "execute_result"
    }
   ],
   "source": [
    "posterior = prior[list(map(lambda x: x == observed, sim_data))]\n",
    "posterior"
   ]
  },
  {
   "cell_type": "markdown",
   "metadata": {},
   "source": [
    "Below is what our posterior distribution looks like."
   ]
  },
  {
   "cell_type": "code",
   "execution_count": 10,
   "metadata": {},
   "outputs": [
    {
     "data": {
      "image/png": "[encoded data removed]",
      "text/plain": [
       "<Figure size 432x288 with 1 Axes>"
      ]
     },
     "metadata": {
      "needs_background": "light"
     },
     "output_type": "display_data"
    }
   ],
   "source": [
    "posterior.hist()\n",
    "plt.show()"
   ]
  },
  {
   "cell_type": "markdown",
   "metadata": {},
   "source": [
    "We can see just by looking at this that the updated probability of someone making a purchase from our online store is likely between 10% and 30% and most likely somewhere between 17% and 20%.\n",
    "\n",
    "We can also calculate some statistics for our posterior distribution in addition to visualizing it. This will show us the mean, range, and standard deviation of our posterior distribution in addition to the quartiles."
   ]
  },
  {
   "cell_type": "code",
   "execution_count": 11,
   "metadata": {},
   "outputs": [
    {
     "data": {
      "text/plain": [
       "count    1969.000000\n",
       "mean        0.210563\n",
       "std         0.056635\n",
       "min         0.066313\n",
       "25%         0.171937\n",
       "50%         0.207019\n",
       "75%         0.247364\n",
       "max         0.418641\n",
       "dtype: float64"
      ]
     },
     "execution_count": 11,
     "metadata": {},
     "output_type": "execute_result"
    }
   ],
   "source": [
    "posterior.describe()"
   ]
  },
  {
   "cell_type": "markdown",
   "metadata": {},
   "source": [
    "We can see that both the mean and the median are approximately 21%. If we wanted to, we could also calculate a 90% credible interval for this distribution as follows."
   ]
  },
  {
   "cell_type": "code",
   "execution_count": 12,
   "metadata": {},
   "outputs": [
    {
     "name": "stdout",
     "output_type": "stream",
     "text": [
      "0.10741278242768902 | 0.32880005303193843\n"
     ]
    }
   ],
   "source": [
    "print(posterior.quantile(.025), '|', posterior.quantile(.975))"
   ]
  },
  {
   "cell_type": "markdown",
   "metadata": {},
   "source": [
    "Finally, we could also round the values in the posterior distribution to whole percents and calculate the most likely one along with its probability. This is known as the maximum likelihood estimate."
   ]
  },
  {
   "cell_type": "code",
   "execution_count": 13,
   "metadata": {},
   "outputs": [
    {
     "name": "stdout",
     "output_type": "stream",
     "text": [
      "Maximum Likelihood Estimate:  0.2 | 0.07668867445403758\n"
     ]
    }
   ],
   "source": [
    "rounded = posterior.round(2)\n",
    "mode = rounded.mode()[0]\n",
    "probability = list(rounded).count(mode)/len(rounded)\n",
    "print('Maximum Likelihood Estimate: ', mode, '|',probability)"
   ]
  },
  {
   "cell_type": "markdown",
   "metadata": {},
   "source": [
    "This tells us that given the data we have thus far, it is most likely that 18% of the visitors to our online store will make a purchase."
   ]
  },
  {
   "cell_type": "code",
   "execution_count": null,
   "metadata": {},
   "outputs": [],
   "source": []
  }
 ],
 "metadata": {
  "kernelspec": {
   "display_name": "Python 3",
   "language": "python",
   "name": "python3"
  },
  "language_info": {
   "codemirror_mode": {
    "name": "ipython",
    "version": 3
   },
   "file_extension": ".py",
   "mimetype": "text/x-python",
   "name": "python",
   "nbconvert_exporter": "python",
   "pygments_lexer": "ipython3",
   "version": "3.8.3"
  }
 },
 "nbformat": 4,
 "nbformat_minor": 2
}
